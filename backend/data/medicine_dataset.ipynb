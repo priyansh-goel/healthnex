{
 "cells": [
  {
   "cell_type": "code",
   "id": "initial_id",
   "metadata": {
    "collapsed": true
   },
   "source": "import pandas as pd",
   "outputs": [],
   "execution_count": null
  },
  {
   "metadata": {},
   "cell_type": "code",
   "source": "df = pd.read_csv(\"medicine_dataset.csv\")",
   "id": "40b2976fbc3b4240",
   "outputs": [],
   "execution_count": null
  },
  {
   "metadata": {},
   "cell_type": "code",
   "source": "df.head()",
   "id": "30b1854643b52b13",
   "outputs": [],
   "execution_count": null
  },
  {
   "metadata": {},
   "cell_type": "code",
   "source": "len(df[\"Action Class\"].unique())",
   "id": "15788ceb466f6a1c",
   "outputs": [],
   "execution_count": null
  },
  {
   "metadata": {},
   "cell_type": "code",
   "source": "df[\"Action Class\"].count()",
   "id": "f3a082abdab90808",
   "outputs": [],
   "execution_count": null
  },
  {
   "metadata": {},
   "cell_type": "code",
   "source": [
    "df['Substitutions'] = df.iloc[:, 2:7].apply(lambda row: ','.join(row.dropna().astype(str)), axis=1)\n",
    "\n",
    "df[['Substitutions']].head()"
   ],
   "id": "84f168a439b81526",
   "outputs": [],
   "execution_count": null
  },
  {
   "metadata": {},
   "cell_type": "code",
   "source": [
    "# df['SideEffects'] = df.iloc[:, 2:7].apply(lambda row: ','.join(row.dropna().astype(str)), axis=1)\n",
    "# \n",
    "# df[['SideEffects']].head()"
   ],
   "id": "d62c2fed041e435",
   "outputs": [],
   "execution_count": null
  },
  {
   "metadata": {},
   "cell_type": "code",
   "source": [
    "df['SideEffects'] = df.iloc[:, 7:48].apply(lambda row: ','.join(row.dropna().astype(str)), axis=1)\n",
    "\n",
    "df[['SideEffects']].head()"
   ],
   "id": "9e16ced799017cf9",
   "outputs": [],
   "execution_count": null
  },
  {
   "metadata": {},
   "cell_type": "code",
   "source": [
    "# new_df = df['name'] + df['Substitutions'] + df['SideEffects'] + df[\"Action Class\"]\n",
    "new_df = df[['name', 'Substitutions', 'SideEffects', \"Habit Forming\"]]\n",
    "\n",
    "new_df.head()"
   ],
   "id": "34319b83648619ed",
   "outputs": [],
   "execution_count": null
  },
  {
   "metadata": {},
   "cell_type": "code",
   "source": "new_df.to_csv(\"updated_medicine_dataset.csv\")",
   "id": "1423ceb9a4f36f80",
   "outputs": [],
   "execution_count": null
  },
  {
   "metadata": {},
   "cell_type": "code",
   "source": [
    "new_df[\"Habit Forming\"] = new_df[\"Habit Forming\"].replace(\"No\", False)\n",
    "new_df[\"Habit Forming\"] = new_df[\"Habit Forming\"].replace(\"Yes\", True)\n",
    "new_df.head()"
   ],
   "id": "b400dca45c512136",
   "outputs": [],
   "execution_count": null
  },
  {
   "metadata": {},
   "cell_type": "code",
   "source": "new_df.head(100)",
   "id": "afe86a5b9cce66b0",
   "outputs": [],
   "execution_count": null
  },
  {
   "metadata": {},
   "cell_type": "code",
   "source": "",
   "id": "4101d8257a15e5e7",
   "outputs": [],
   "execution_count": null
  }
 ],
 "metadata": {
  "kernelspec": {
   "display_name": "Python 3",
   "language": "python",
   "name": "python3"
  },
  "language_info": {
   "codemirror_mode": {
    "name": "ipython",
    "version": 2
   },
   "file_extension": ".py",
   "mimetype": "text/x-python",
   "name": "python",
   "nbconvert_exporter": "python",
   "pygments_lexer": "ipython2",
   "version": "2.7.6"
  }
 },
 "nbformat": 4,
 "nbformat_minor": 5
}
